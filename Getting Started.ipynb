{
 "cells": [
  {
   "cell_type": "markdown",
   "id": "73952187-d000-488e-93f4-08508754e450",
   "metadata": {},
   "source": [
    "# How to get started:"
   ]
  },
  {
   "cell_type": "markdown",
   "id": "5bb86121-e6e5-4ae1-be93-35549cccd030",
   "metadata": {},
   "source": [
    "First, import the package:"
   ]
  },
  {
   "cell_type": "code",
   "execution_count": 1,
   "id": "27184a7f-c20f-442a-a84c-fdd2bd25a295",
   "metadata": {},
   "outputs": [],
   "source": [
    "import minder_utils as dri"
   ]
  },
  {
   "cell_type": "markdown",
   "id": "21c07479-f071-478b-b27f-f2455d43561e",
   "metadata": {},
   "source": [
    "And change the settings of the package to reflect our token and directory to the mapping data:\n",
    "\n",
    "Note, this only needs to be done once! Although, it could be useful to do it every time. Because these settings are saved internally, you can not run this package with different settings at the same time. If you want to run this in parallel, please use the same settings for all sessions."
   ]
  },
  {
   "cell_type": "code",
   "execution_count": 1,
   "id": "f5b1f859-d461-40a7-87b8-183511594e52",
   "metadata": {},
   "outputs": [],
   "source": [
    "import minder_utils.settings as settings"
   ]
  },
  {
   "cell_type": "code",
   "execution_count": 3,
   "id": "3d930d5e-de33-49b8-bf8e-eb97ad5a5c18",
   "metadata": {},
   "outputs": [
    {
     "name": "stdout",
     "output_type": "stream",
     "text": [
      "Token Saved\n"
     ]
    }
   ],
   "source": [
    "settings.token_save('YOUR TOKEN')"
   ]
  },
  {
   "cell_type": "code",
   "execution_count": 1,
   "id": "97944385-60aa-4038-8010-3b7a47c4682c",
   "metadata": {},
   "outputs": [
    {
     "ename": "NameError",
     "evalue": "name 'settings' is not defined",
     "output_type": "error",
     "traceback": [
      "\u001B[0;31m---------------------------------------------------------------------------\u001B[0m",
      "\u001B[0;31mNameError\u001B[0m                                 Traceback (most recent call last)",
      "\u001B[0;32m/var/folders/35/bc3d2zcs15s2xtm0s4vbzt9r0000gn/T/ipykernel_53808/2852030033.py\u001B[0m in \u001B[0;36m<module>\u001B[0;34m\u001B[0m\n\u001B[0;32m----> 1\u001B[0;31m \u001B[0msettings\u001B[0m\u001B[0;34m.\u001B[0m\u001B[0mset_data_dir\u001B[0m\u001B[0;34m(\u001B[0m\u001B[0;34m'./mapping_data/'\u001B[0m\u001B[0;34m)\u001B[0m\u001B[0;34m\u001B[0m\u001B[0;34m\u001B[0m\u001B[0m\n\u001B[0m\u001B[1;32m      2\u001B[0m \u001B[0;34m\u001B[0m\u001B[0m\n",
      "\u001B[0;31mNameError\u001B[0m: name 'settings' is not defined"
     ]
    }
   ],
   "source": [
    "settings.set_data_dir('./mapping_data/')"
   ]
  },
  {
   "cell_type": "code",
   "execution_count": null,
   "outputs": [],
   "source": [
    "# if you want to use tihm data\n",
    "settings.set_tihm_dir(path_to_tihm) "
   ],
   "metadata": {
    "collapsed": false,
    "pycharm": {
     "name": "#%%\n"
    }
   }
  },
  {
   "cell_type": "code",
   "execution_count": null,
   "id": "bde5e434",
   "metadata": {},
   "outputs": [],
   "source": [
    "For example, let us run the data loader:"
   ]
  },
  {
   "cell_type": "markdown",
   "id": "d2371046-0617-436b-9fa7-22c51080b292",
   "metadata": {},
   "source": [
    "For example, let us run the data loader:"
   ]
  },
  {
   "cell_type": "code",
   "execution_count": 5,
   "id": "dba8bb83-a65e-405a-bd11-d2358afb6d35",
   "metadata": {},
   "outputs": [
    {
     "name": "stderr",
     "output_type": "stream",
     "text": [
      "/Users/ac4919/PhD Local/to_run_dri_data_util/src/minder-utils/minder_utils/models/feature_extractors/autoencoders.py:9: SyntaxWarning: \"is\" with a literal. Did you mean \"==\"?\n",
      "  if model_type is 'nn':\n",
      "/Users/ac4919/PhD Local/to_run_dri_data_util/src/minder-utils/minder_utils/models/feature_extractors/autoencoders.py:19: SyntaxWarning: \"is\" with a literal. Did you mean \"==\"?\n",
      "  elif model_type is 'cnn':\n"
     ]
    }
   ],
   "source": [
    "from minder_utils.weekly_run import load_data_default"
   ]
  },
  {
   "cell_type": "markdown",
   "id": "447d59c1-06ca-4c76-80b2-781d27f69f38",
   "metadata": {},
   "source": [
    "The first time you run this function, it will save all of the data in the correct place. Further runs will overwrite the data with the new versions."
   ]
  },
  {
   "cell_type": "code",
   "execution_count": 6,
   "id": "1e690031-8d26-4873-854e-b9faefee1402",
   "metadata": {
    "tags": []
   },
   "outputs": [
    {
     "name": "stdout",
     "output_type": "stream",
     "text": [
      "activity weekly raw data does not exist, start to download\n",
      "Deleting Existing export request\n",
      "Creating new export request\n",
      "Exporting the  {'raw_activity_pir': {}, 'raw_door_sensor': {}, 'raw_appliance_use': {}, 'device_types': {}}\n",
      "Waiting for the sever to complete the job /\n",
      "Job is completed, start to download the data\n",
      "Start to export job\n",
      "Exporting 1/4        device_types         Success\n",
      "Exporting 2/4        raw_door_sensor      Success\n",
      "Exporting 3/4        raw_activity_pir     Success\n",
      "Exporting 4/4        raw_appliance_use    Success\n",
      "formatting the data:  activity weekly\n",
      "Processing: raw_door_sensor                       Finished in 0.08 seconds\n",
      "Processing: raw_appliance_use                     Finished in 0.01 seconds\n",
      "Processing: device_types                          Finished in 0.00 seconds\n",
      "Processing: raw_activity_pir                      Finished in 0.25 seconds\n",
      "activity previous raw data does not exist, start to download\n",
      "Deleting Existing export request\n",
      "Creating new export request\n",
      "Exporting the  {'raw_activity_pir': {}, 'raw_door_sensor': {}, 'raw_appliance_use': {}, 'device_types': {}}\n",
      "Waiting for the sever to complete the job /\n",
      "Job is completed, start to download the data\n",
      "Start to export job\n",
      "Exporting 1/12       device_types         Success\n",
      "Exporting 2/12       raw_door_sensor      Success\n",
      "Exporting 3/12       raw_door_sensor      Success\n",
      "Exporting 4/12       raw_activity_pir     Success\n",
      "Exporting 5/12       raw_activity_pir     Success\n",
      "Exporting 6/12       raw_activity_pir     Success\n",
      "Exporting 7/12       raw_activity_pir     Success\n",
      "Exporting 8/12       raw_activity_pir     Success\n",
      "Exporting 9/12       raw_activity_pir     Success\n",
      "Exporting 10/12      raw_activity_pir     Success\n",
      "Exporting 11/12      raw_activity_pir     Success\n",
      "Exporting 12/12      raw_appliance_use    Success\n",
      "formatting the data:  activity previous\n",
      "Processing: raw_door_sensor                       Finished in 0.77 seconds\n",
      "Processing: raw_appliance_use                     Finished in 0.12 seconds\n",
      "Processing: device_types                          Finished in 0.00 seconds\n",
      "Processing: raw_activity_pir                      Finished in 4.62 seconds\n",
      "Target directory does not exist, creating a new folder\n",
      "Deleting Existing export request\n",
      "Creating new export request\n",
      "Exporting the  {'procedure': {}, 'device_types': {}}\n",
      "Waiting for the sever to complete the job /\n",
      "Job is completed, start to download the data\n",
      "Start to export job\n",
      "Exporting 1/2        procedure            Success\n",
      "Exporting 2/2        device_types         Success\n"
     ]
    },
    {
     "name": "stderr",
     "output_type": "stream",
     "text": [
      "/Users/ac4919/miniforge3/envs/dri_data_utils/lib/python3.8/site-packages/pandas/core/indexing.py:873: PerformanceWarning: indexing past lexsort depth may impact performance.\n",
      "  return self._getitem_tuple(key)\n",
      "/Users/ac4919/miniforge3/envs/dri_data_utils/lib/python3.8/site-packages/pandas/core/indexing.py:873: PerformanceWarning: indexing past lexsort depth may impact performance.\n",
      "  return self._getitem_tuple(key)\n",
      "/Users/ac4919/miniforge3/envs/dri_data_utils/lib/python3.8/site-packages/pandas/core/indexing.py:873: PerformanceWarning: indexing past lexsort depth may impact performance.\n",
      "  return self._getitem_tuple(key)\n",
      "/Users/ac4919/miniforge3/envs/dri_data_utils/lib/python3.8/site-packages/pandas/core/indexing.py:873: PerformanceWarning: indexing past lexsort depth may impact performance.\n",
      "  return self._getitem_tuple(key)\n",
      "/Users/ac4919/miniforge3/envs/dri_data_utils/lib/python3.8/site-packages/pandas/core/indexing.py:873: PerformanceWarning: indexing past lexsort depth may impact performance.\n",
      "  return self._getitem_tuple(key)\n",
      "/Users/ac4919/miniforge3/envs/dri_data_utils/lib/python3.8/site-packages/pandas/core/indexing.py:873: PerformanceWarning: indexing past lexsort depth may impact performance.\n",
      "  return self._getitem_tuple(key)\n",
      "/Users/ac4919/miniforge3/envs/dri_data_utils/lib/python3.8/site-packages/pandas/core/indexing.py:873: PerformanceWarning: indexing past lexsort depth may impact performance.\n",
      "  return self._getitem_tuple(key)\n",
      "/Users/ac4919/miniforge3/envs/dri_data_utils/lib/python3.8/site-packages/pandas/core/indexing.py:873: PerformanceWarning: indexing past lexsort depth may impact performance.\n",
      "  return self._getitem_tuple(key)\n",
      "/Users/ac4919/miniforge3/envs/dri_data_utils/lib/python3.8/site-packages/pandas/core/indexing.py:873: PerformanceWarning: indexing past lexsort depth may impact performance.\n",
      "  return self._getitem_tuple(key)\n"
     ]
    }
   ],
   "source": [
    "load_data_default()"
   ]
  },
  {
   "cell_type": "code",
   "execution_count": null,
   "id": "6540aa3a-0dc4-4d24-92f2-dbe3c5ad29a0",
   "metadata": {},
   "outputs": [],
   "source": []
  }
 ],
 "metadata": {
  "kernelspec": {
   "display_name": "Python 3 (ipykernel)",
   "language": "python",
   "name": "python3"
  },
  "language_info": {
   "codemirror_mode": {
    "name": "ipython",
    "version": 3
   },
   "file_extension": ".py",
   "mimetype": "text/x-python",
   "name": "python",
   "nbconvert_exporter": "python",
   "pygments_lexer": "ipython3",
   "version": "3.8.12"
  }
 },
 "nbformat": 4,
 "nbformat_minor": 5
}