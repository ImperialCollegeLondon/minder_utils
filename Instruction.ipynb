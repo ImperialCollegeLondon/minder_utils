{
 "cells": [
  {
   "cell_type": "code",
   "execution_count": 3,
   "metadata": {},
   "outputs": [],
   "source": [
    "%load_ext autoreload\n",
    "%autoreload 2"
   ]
  },
  {
   "cell_type": "code",
   "execution_count": 12,
   "metadata": {},
   "outputs": [],
   "source": [
    "import numpy as np\n",
    "import os\n",
    "from minder_utils.settings import dates_save\n",
    "from minder_utils.configurations import data_path, dates_path, token_path, delta_path\n",
    "import pandas as pd"
   ]
  },
  {
   "cell_type": "markdown",
   "metadata": {},
   "source": [
    "Following codes illustrate:\n",
    "\n",
    "- [How to download weekly data](#weekly_download)\n",
    "\n",
    "- [How to download arbitrary types of data](#download)\n",
    "\n",
    "- [How to categories the data](#formatting)\n",
    "\n",
    "- [How to pre-process the data](#preprocessing)\n",
    "\n",
    "- [Other utils](#utils)"
   ]
  },
  {
   "cell_type": "markdown",
   "metadata": {},
   "source": [
    "# Download weekly data <a id='weekly_download'></a>"
   ]
  },
  {
   "cell_type": "markdown",
   "metadata": {},
   "source": [
    "First and foremost, we have to import and initialise the class `Weekly_dataloader`, we can specify which categories to be downloaded. If not, the code will defautly download all types of data."
   ]
  },
  {
   "cell_type": "code",
   "execution_count": 2,
   "metadata": {},
   "outputs": [],
   "source": [
    "from minder_utils.scripts.weekly_loader import Weekly_dataloader\n",
    "dataloader = Weekly_dataloader(categories=['activity', 'environmental', 'physiological'])"
   ]
  },
  {
   "cell_type": "markdown",
   "metadata": {},
   "source": [
    "If it's the first time to download the data, call the `initialise()`. \n",
    "\n",
    "If it is NOT the first time, the 'initialise()' funciton will delete the previous downloaded data and download them again.\n",
    "\n",
    "To illustrate, we firstly download the data 6 days ago."
   ]
  },
  {
   "cell_type": "code",
   "execution_count": 7,
   "metadata": {},
   "outputs": [
    {
     "name": "stdout",
     "output_type": "stream",
     "text": [
      "Delta Saved\n"
     ]
    }
   ],
   "source": [
    "from minder_utils.settings import set_delta\n",
    "set_delta(6)"
   ]
  },
  {
   "cell_type": "code",
   "execution_count": 8,
   "metadata": {},
   "outputs": [
    {
     "name": "stdout",
     "output_type": "stream",
     "text": [
      "Dates Saved\n",
      "Deleting existing directory:  data/weekly_test/current/csv\n",
      "Deleting existing directory:  data/weekly_test/current/npy\n",
      "Creating new export request\n",
      "Exporting the  {'raw_body_weight': {}, 'raw_total_body_water': {}, 'raw_body_muscle_mass': {}, 'raw_body_mass_index': {}, 'raw_total_body_fat': {}, 'raw_total_bone_mass': {}, 'raw_heart_rate': {}, 'raw_oxygen_saturation': {}, 'raw_blood_pressure': {}, 'raw_skin_temperature': {}, 'raw_body_temperature': {}, 'raw_ambient_temperature': {}, 'raw_light': {}, 'raw_activity_pir': {}, 'raw_door_sensor': {}, 'raw_appliance_use': {}, 'device_types': {}}\n",
      "From  2021-10-06 00:00:00 to 2021-10-13 00:00:00\n",
      "Waiting for the sever to complete the job [>=>---------]\n",
      "Job is completed, start to download the data\n",
      "Start to export job\n",
      "Exporting 1/17       raw_light            Success\n",
      "Exporting 2/17       device_types         Success\n",
      "Exporting 3/17       raw_heart_rate       Success\n",
      "Exporting 4/17       raw_body_weight      Success\n",
      "Exporting 5/17       raw_door_sensor      Success\n",
      "Exporting 6/17       raw_activity_pir     Success\n",
      "Exporting 7/17       raw_appliance_use    Success\n",
      "Exporting 8/17       raw_blood_pressure   Success\n",
      "Exporting 9/17       raw_total_body_fat   Success\n",
      "Exporting 10/17      raw_body_mass_index  Success\n",
      "Exporting 11/17      raw_total_bone_mass  Success\n",
      "Exporting 12/17      raw_body_muscle_mass Success\n",
      "Exporting 13/17      raw_body_temperature Success\n",
      "Exporting 14/17      raw_skin_temperature Success\n",
      "Exporting 15/17      raw_total_body_water Success\n",
      "Exporting 16/17      raw_oxygen_saturation Success\n",
      "Exporting 17/17      raw_ambient_temperature Success\n",
      "Processing: raw_body_weight                       Finished in 0.03 seconds\n",
      "Processing: raw_body_temperature                  Finished in 0.01 seconds\n",
      "Processing: raw_skin_temperature                  Finished in 0.01 seconds\n",
      "Processing: raw_door_sensor                       Finished in 0.06 seconds\n",
      "Processing: raw_body_muscle_mass                  Finished in 0.01 seconds\n",
      "Processing: raw_appliance_use                     Finished in 0.01 seconds\n",
      "Processing: raw_heart_rate                        Finished in 0.01 seconds\n",
      "Processing: raw_oxygen_saturation                 Finished in 0.01 seconds\n",
      "Processing: raw_total_body_fat                    Finished in 0.01 seconds\n",
      "Processing: raw_ambient_temperature               Finished in 0.33 seconds\n",
      "Processing: device_types                          Finished in 0.00 seconds\n",
      "Processing: raw_light                             Finished in 0.36 seconds\n",
      "Processing: raw_body_mass_index                   Finished in 0.01 seconds\n",
      "Processing: raw_blood_pressure                    Finished in 0.02 seconds\n",
      "Processing: raw_total_body_water                  Finished in 0.01 seconds\n",
      "Processing: raw_total_bone_mass                   Finished in 0.01 seconds\n",
      "Processing: raw_activity_pir                      "
     ]
    },
    {
     "name": "stderr",
     "output_type": "stream",
     "text": [
      "/opt/anaconda3/envs/minder_env/lib/python3.8/site-packages/pandas/core/generic.py:5170: SettingWithCopyWarning: \n",
      "A value is trying to be set on a copy of a slice from a DataFrame.\n",
      "Try using .loc[row_indexer,col_indexer] = value instead\n",
      "\n",
      "See the caveats in the documentation: https://pandas.pydata.org/pandas-docs/stable/user_guide/indexing.html#returning-a-view-versus-a-copy\n",
      "  self[name] = value\n",
      "/Users/mozzie/Desktop/GITDesktop.nosync/UKDRI.nosync/minder_utils/minder_utils/formatting/formatting.py:126: SettingWithCopyWarning: \n",
      "A value is trying to be set on a copy of a slice from a DataFrame.\n",
      "Try using .loc[row_indexer,col_indexer] = value instead\n",
      "\n",
      "See the caveats in the documentation: https://pandas.pydata.org/pandas-docs/stable/user_guide/indexing.html#returning-a-view-versus-a-copy\n",
      "  tmp_data['value'] = tmp_data[value]\n"
     ]
    },
    {
     "name": "stdout",
     "output_type": "stream",
     "text": [
      "Finished in 0.40 seconds\n",
      "Creating new export request\n",
      "Exporting the  {'raw_body_weight': {}, 'raw_total_body_water': {}, 'raw_body_muscle_mass': {}, 'raw_body_mass_index': {}, 'raw_total_body_fat': {}, 'raw_total_bone_mass': {}, 'raw_heart_rate': {}, 'raw_oxygen_saturation': {}, 'raw_blood_pressure': {}, 'raw_skin_temperature': {}, 'raw_body_temperature': {}, 'raw_ambient_temperature': {}, 'raw_light': {}, 'raw_activity_pir': {}, 'raw_door_sensor': {}, 'raw_appliance_use': {}, 'device_types': {}}\n",
      "From  None to 2021-10-06 00:00:00\n",
      "Waiting for the sever to complete the job [<=<---------]\n",
      "Job is completed, start to download the data\n",
      "Start to export job\n",
      "Exporting 1/31       raw_light            Success\n",
      "Exporting 2/31       raw_light            Success\n",
      "Exporting 3/31       raw_light            Success\n",
      "Exporting 4/31       raw_light            Success\n",
      "Exporting 5/31       raw_light            Success\n",
      "Exporting 6/31       device_types         Success\n",
      "Exporting 7/31       raw_heart_rate       Success\n",
      "Exporting 8/31       raw_body_weight      Success\n",
      "Exporting 9/31       raw_door_sensor      Success\n",
      "Exporting 10/31      raw_door_sensor      Success\n",
      "Exporting 11/31      raw_activity_pir     Success\n",
      "Exporting 12/31      raw_activity_pir     Success\n",
      "Exporting 13/31      raw_activity_pir     Success\n",
      "Exporting 14/31      raw_activity_pir     Success\n",
      "Exporting 15/31      raw_activity_pir     Success\n",
      "Exporting 16/31      raw_activity_pir     Success\n",
      "Exporting 17/31      raw_activity_pir     Success\n",
      "Exporting 18/31      raw_activity_pir     Success\n",
      "Exporting 19/31      raw_appliance_use    Success\n",
      "Exporting 20/31      raw_blood_pressure   Success\n",
      "Exporting 21/31      raw_total_body_fat   Success\n",
      "Exporting 22/31      raw_body_mass_index  Success\n",
      "Exporting 23/31      raw_total_bone_mass  Success\n",
      "Exporting 24/31      raw_body_muscle_mass Success\n",
      "Exporting 25/31      raw_body_temperature Success\n",
      "Exporting 26/31      raw_skin_temperature Success\n",
      "Exporting 27/31      raw_total_body_water Success\n",
      "Exporting 28/31      raw_oxygen_saturation Success\n",
      "Exporting 29/31      raw_ambient_temperature Success\n",
      "Exporting 30/31      raw_ambient_temperature "
     ]
    },
    {
     "name": "stderr",
     "output_type": "stream",
     "text": [
      "/var/folders/35/bc3d2zcs15s2xtm0s4vbzt9r0000gn/T/ipykernel_58333/1453337515.py:2: DtypeWarning: Columns (8) have mixed types.Specify dtype option on import or set low_memory=False.\n",
      "  dataloader.initialise()\n"
     ]
    },
    {
     "name": "stdout",
     "output_type": "stream",
     "text": [
      "Success\n",
      "Exporting 31/31      raw_ambient_temperature Success\n",
      "Processing: raw_body_weight                       Finished in 0.03 seconds\n",
      "Processing: raw_body_temperature                  Finished in 0.06 seconds\n",
      "Processing: raw_skin_temperature                  Finished in 0.05 seconds\n",
      "Processing: raw_door_sensor                       Finished in 1.27 seconds\n",
      "Processing: raw_body_muscle_mass                  Finished in 0.02 seconds\n",
      "Processing: raw_appliance_use                     Finished in 0.22 seconds\n",
      "Processing: raw_heart_rate                        Finished in 0.05 seconds\n",
      "Processing: raw_oxygen_saturation                 Finished in 0.03 seconds\n",
      "Processing: raw_total_body_fat                    Finished in 0.01 seconds\n",
      "Processing: raw_ambient_temperature               "
     ]
    },
    {
     "name": "stderr",
     "output_type": "stream",
     "text": [
      "/Users/mozzie/Desktop/GITDesktop.nosync/UKDRI.nosync/minder_utils/minder_utils/scirpts/weekly_loader.py:115: DtypeWarning: Columns (9) have mixed types.Specify dtype option on import or set low_memory=False.\n",
      "  loader = Formatting(os.path.join(self.default_dir, period, 'csv'))\n"
     ]
    },
    {
     "name": "stdout",
     "output_type": "stream",
     "text": [
      "Finished in 3.19 seconds\n",
      "Processing: device_types                          Finished in 0.00 seconds\n",
      "Processing: raw_light                             Finished in 6.24 seconds\n",
      "Processing: raw_body_mass_index                   Finished in 0.02 seconds\n",
      "Processing: raw_blood_pressure                    Finished in 0.03 seconds\n",
      "Processing: raw_total_body_water                  Finished in 0.01 seconds\n",
      "Processing: raw_total_bone_mass                   Finished in 0.01 seconds\n",
      "Processing: raw_activity_pir                      "
     ]
    },
    {
     "name": "stderr",
     "output_type": "stream",
     "text": [
      "/opt/anaconda3/envs/minder_env/lib/python3.8/site-packages/pandas/core/generic.py:5170: SettingWithCopyWarning: \n",
      "A value is trying to be set on a copy of a slice from a DataFrame.\n",
      "Try using .loc[row_indexer,col_indexer] = value instead\n",
      "\n",
      "See the caveats in the documentation: https://pandas.pydata.org/pandas-docs/stable/user_guide/indexing.html#returning-a-view-versus-a-copy\n",
      "  self[name] = value\n",
      "/Users/mozzie/Desktop/GITDesktop.nosync/UKDRI.nosync/minder_utils/minder_utils/formatting/formatting.py:126: SettingWithCopyWarning: \n",
      "A value is trying to be set on a copy of a slice from a DataFrame.\n",
      "Try using .loc[row_indexer,col_indexer] = value instead\n",
      "\n",
      "See the caveats in the documentation: https://pandas.pydata.org/pandas-docs/stable/user_guide/indexing.html#returning-a-view-versus-a-copy\n",
      "  tmp_data['value'] = tmp_data[value]\n"
     ]
    },
    {
     "name": "stdout",
     "output_type": "stream",
     "text": [
      "Finished in 6.68 seconds\n"
     ]
    },
    {
     "name": "stderr",
     "output_type": "stream",
     "text": [
      "/opt/anaconda3/envs/minder_env/lib/python3.8/site-packages/pandas/core/indexing.py:873: PerformanceWarning: indexing past lexsort depth may impact performance.\n",
      "  return self._getitem_tuple(key)\n",
      "/opt/anaconda3/envs/minder_env/lib/python3.8/site-packages/pandas/core/indexing.py:873: PerformanceWarning: indexing past lexsort depth may impact performance.\n",
      "  return self._getitem_tuple(key)\n",
      "/opt/anaconda3/envs/minder_env/lib/python3.8/site-packages/pandas/core/indexing.py:873: PerformanceWarning: indexing past lexsort depth may impact performance.\n",
      "  return self._getitem_tuple(key)\n",
      "/opt/anaconda3/envs/minder_env/lib/python3.8/site-packages/pandas/core/indexing.py:873: PerformanceWarning: indexing past lexsort depth may impact performance.\n",
      "  return self._getitem_tuple(key)\n",
      "/opt/anaconda3/envs/minder_env/lib/python3.8/site-packages/pandas/core/indexing.py:873: PerformanceWarning: indexing past lexsort depth may impact performance.\n",
      "  return self._getitem_tuple(key)\n",
      "/opt/anaconda3/envs/minder_env/lib/python3.8/site-packages/pandas/core/indexing.py:873: PerformanceWarning: indexing past lexsort depth may impact performance.\n",
      "  return self._getitem_tuple(key)\n",
      "/opt/anaconda3/envs/minder_env/lib/python3.8/site-packages/pandas/core/indexing.py:873: PerformanceWarning: indexing past lexsort depth may impact performance.\n",
      "  return self._getitem_tuple(key)\n",
      "/opt/anaconda3/envs/minder_env/lib/python3.8/site-packages/pandas/core/indexing.py:873: PerformanceWarning: indexing past lexsort depth may impact performance.\n",
      "  return self._getitem_tuple(key)\n",
      "/opt/anaconda3/envs/minder_env/lib/python3.8/site-packages/pandas/core/indexing.py:873: PerformanceWarning: indexing past lexsort depth may impact performance.\n",
      "  return self._getitem_tuple(key)\n"
     ]
    }
   ],
   "source": [
    "# Start to download\n",
    "dataloader.initialise()"
   ]
  },
  {
   "cell_type": "markdown",
   "metadata": {},
   "source": [
    "The script will save the data into the ./data/weekly_test/**. The activity data will also be pre-processed.\n",
    "\n",
    "To access the data:"
   ]
  },
  {
   "cell_type": "code",
   "execution_count": 4,
   "metadata": {},
   "outputs": [],
   "source": [
    "# Access the formated, all previous activity data\n",
    "unlabelled = np.load(os.path.join(dataloader.previous_data, 'unlabelled.npy'))\n",
    "X = np.load(os.path.join(dataloader.previous_data, 'X.npy'))\n",
    "y = np.load(os.path.join(dataloader.previous_data, 'y.npy'))\n",
    "y = np.load(os.path.join(dataloader.previous_data, 'p_ids.npy'))\n",
    "\n",
    "\n",
    "# Access the formated, activity data in the current week\n",
    "weekly_data = np.load(os.path.join(loader.weekly_data, 'unlabelled.npy'))\n",
    "p_ids = np.load(os.path.join(loader.weekly_data, 'patient_id.npy'))\n",
    "dates = np.load(os.path.join(loader.weekly_data, 'dates.npy'))"
   ]
  },
  {
   "cell_type": "markdown",
   "metadata": {},
   "source": [
    "To refresh the data, just call `refresh()`. For example, we have downloaded the data 6 days ago and want\n",
    "to refresh it until yesterday."
   ]
  },
  {
   "cell_type": "code",
   "execution_count": 9,
   "metadata": {},
   "outputs": [
    {
     "name": "stdout",
     "output_type": "stream",
     "text": [
      "Delta Saved\n"
     ]
    }
   ],
   "source": [
    "set_delta(1)"
   ]
  },
  {
   "cell_type": "code",
   "execution_count": 10,
   "metadata": {},
   "outputs": [
    {
     "name": "stdout",
     "output_type": "stream",
     "text": [
      "Dates Saved\n",
      "Creating new export request\n",
      "Exporting the  {'raw_body_weight': {}, 'raw_total_body_water': {}, 'raw_body_muscle_mass': {}, 'raw_body_mass_index': {}, 'raw_total_body_fat': {}, 'raw_total_bone_mass': {}, 'raw_heart_rate': {}, 'raw_oxygen_saturation': {}, 'raw_blood_pressure': {}, 'raw_skin_temperature': {}, 'raw_body_temperature': {}, 'raw_ambient_temperature': {}, 'raw_light': {}, 'raw_activity_pir': {}, 'raw_door_sensor': {}, 'raw_appliance_use': {}}\n",
      "From  2021-10-13 00:00:00 to 2021-10-18 00:00:00\n",
      "Waiting for the sever to complete the job [--<=<-------]\n",
      "Job is completed, start to download the data\n",
      "Start to export job\n",
      "Exporting 1/16       raw_light            Success\n",
      "Exporting 2/16       raw_heart_rate       Success\n",
      "Exporting 3/16       raw_body_weight      Success\n",
      "Exporting 4/16       raw_door_sensor      Success\n",
      "Exporting 5/16       raw_activity_pir     Success\n",
      "Exporting 6/16       raw_appliance_use    Success\n",
      "Exporting 7/16       raw_blood_pressure   Success\n",
      "Exporting 8/16       raw_total_body_fat   Success\n",
      "Exporting 9/16       raw_body_mass_index  Success\n",
      "Exporting 10/16      raw_total_bone_mass  Success\n",
      "Exporting 11/16      raw_body_muscle_mass Success\n",
      "Exporting 12/16      raw_body_temperature Success\n",
      "Exporting 13/16      raw_skin_temperature Success\n",
      "Exporting 14/16      raw_total_body_water Success\n",
      "Exporting 15/16      raw_oxygen_saturation Success\n",
      "Exporting 16/16      raw_ambient_temperature Success\n"
     ]
    },
    {
     "name": "stderr",
     "output_type": "stream",
     "text": [
      "/opt/anaconda3/envs/minder_env/lib/python3.8/site-packages/IPython/core/interactiveshell.py:3444: DtypeWarning: Columns (9) have mixed types.Specify dtype option on import or set low_memory=False.\n",
      "  exec(code_obj, self.user_global_ns, self.user_ns)\n"
     ]
    }
   ],
   "source": [
    "dataloader.refresh()"
   ]
  },
  {
   "cell_type": "markdown",
   "metadata": {},
   "source": [
    "We can check the dates of the data by"
   ]
  },
  {
   "cell_type": "code",
   "execution_count": 15,
   "metadata": {},
   "outputs": [
    {
     "name": "stdout",
     "output_type": "stream",
     "text": [
      "2021-04-30T07:21:48.000000Z 2021-10-10 11:15:10+00:00\n",
      "2021-10-11 07:32:07+00:00 2021-10-17 08:56:21+00:00\n"
     ]
    }
   ],
   "source": [
    "previous = pd.read_csv(os.path.join(dataloader.previous_csv_data, 'raw_body_mass_index.csv'))\n",
    "current = pd.read_csv(os.path.join(dataloader.current_csv_data, 'raw_body_mass_index.csv'))\n",
    "\n",
    "print(previous.start_date.min(), previous.start_date.max())\n",
    "print(current.start_date.min(), current.start_date.max())"
   ]
  },
  {
   "cell_type": "markdown",
   "metadata": {},
   "source": [
    "# Download data <a id='download'></a>"
   ]
  },
  {
   "cell_type": "markdown",
   "metadata": {},
   "source": [
    "To download specific types of data:"
   ]
  },
  {
   "cell_type": "code",
   "execution_count": 18,
   "metadata": {},
   "outputs": [],
   "source": [
    "from download.download import Downloader\n",
    "data_downloader = Downloader()"
   ]
  },
  {
   "cell_type": "markdown",
   "metadata": {},
   "source": [
    "To download `raw_activity_pir` since `2020-01-01`"
   ]
  },
  {
   "cell_type": "code",
   "execution_count": 19,
   "metadata": {},
   "outputs": [
    {
     "name": "stdout",
     "output_type": "stream",
     "text": [
      "Deleting Existing export request\n",
      "Creating new export request\n",
      "Exporting the  {'raw_activity_pir': {}, 'device_types': {}}\n",
      "Waiting the server to complete the job ...\n",
      "Waiting the server to complete the job ...\n",
      "Waiting the server to complete the job ...\n",
      "Job is completed, start to download the data\n",
      "Start to export job b3da2575-c358-41b0-add6-a91d126ef5bf\n",
      "Exporting 1/2        device_types         Success\n",
      "Exporting 2/2        raw_activity_pir     Success\n"
     ]
    }
   ],
   "source": [
    "data_downloader.export(since='2021-10-10', reload=True, save_path='./data/yesterday/', categories=['raw_activity_pir'])"
   ]
  },
  {
   "cell_type": "markdown",
   "metadata": {},
   "source": [
    "Note: if you want to download the previous data (you have downloaded before), set `reload=False` in case of creating duplicated export request."
   ]
  },
  {
   "cell_type": "code",
   "execution_count": 22,
   "metadata": {},
   "outputs": [
    {
     "name": "stdout",
     "output_type": "stream",
     "text": [
      "Multiple export requests exist, please choose one to download\n",
      "======================Job 0 ======================\n",
      "ID:  883ea5e9-84dc-4604-8b2b-c8b358ee1a6d\n",
      "Transaction Time 2021-09-06T02:31:42.718Z\n",
      "Export sensors: homes issue patients encounter procedure raw_light raw_light raw_light raw_light device_types raw_sleep_mat raw_sleep_mat raw_sleep_mat raw_sleep_mat raw_sleep_mat raw_sleep_mat raw_sleep_mat raw_sleep_mat raw_sleep_mat raw_sleep_mat raw_sleep_mat raw_sleep_mat raw_sleep_mat raw_sleep_mat raw_sleep_mat raw_sleep_mat raw_sleep_mat raw_sleep_mat raw_sleep_mat raw_sleep_mat raw_sleep_mat raw_sleep_mat raw_sleep_mat raw_heart_rate raw_behavioural raw_body_weight raw_door_sensor raw_door_sensor raw_sleep_event raw_activity_pir raw_activity_pir raw_activity_pir raw_activity_pir raw_activity_pir raw_activity_pir observation_notes raw_appliance_use raw_blood_pressure raw_total_body_fat raw_body_mass_index raw_total_bone_mass raw_body_muscle_mass raw_body_temperature raw_skin_temperature raw_total_body_water raw_wearable_walking raw_oxygen_saturation raw_ambient_temperature raw_ambient_temperature \n",
      "======================Job 1 ======================\n",
      "ID:  5a6eeb7b-75c4-4523-9467-5f5adeec50e8\n",
      "Transaction Time 2021-09-06T02:32:43.024Z\n",
      "Export sensors: raw_door_sensor \n",
      "======================Job 2 ======================\n",
      "ID:  f08386f8-f5ad-4586-859d-a89aeb6d1359\n",
      "Transaction Time 2021-09-06T03:23:33.397Z\n",
      "Export sensors: raw_activity_pir raw_activity_pir raw_activity_pir raw_activity_pir raw_activity_pir \n",
      "======================Job 3 ======================\n",
      "ID:  b67f96c9-06d1-4d06-8373-eb19a5088bbf\n",
      "Transaction Time 2021-10-04T16:34:29.720Z\n",
      "Export sensors: raw_door_sensor raw_activity_pir raw_appliance_use \n",
      "======================Job 4 ======================\n",
      "ID:  c95d7008-2a1b-4799-a15e-57e1e5aa5e0e\n",
      "Transaction Time 2021-10-05T10:35:01.764Z\n",
      "Export sensors: raw_door_sensor raw_activity_pir raw_appliance_use \n",
      "======================Job 5 ======================\n",
      "ID:  bccf6a30-e5b6-49ba-be01-6ba37c359324\n",
      "Transaction Time 2021-10-05T10:35:58.953Z\n",
      "Export sensors: raw_door_sensor raw_activity_pir raw_appliance_use \n",
      "======================Job 6 ======================\n",
      "ID:  883c1bbe-8ec5-4ac3-89fc-74a477e679e1\n",
      "Transaction Time 2021-10-05T13:50:26.654Z\n",
      "Export sensors: raw_door_sensor raw_door_sensor raw_activity_pir raw_activity_pir raw_activity_pir raw_activity_pir raw_activity_pir raw_activity_pir raw_activity_pir raw_activity_pir raw_appliance_use \n",
      "======================Job 7 ======================\n",
      "ID:  b2cb7315-6418-45ee-87b0-04d615aee5a6\n",
      "Transaction Time 2021-10-05T18:10:36.833Z\n",
      "Export sensors: homes issue patients encounter procedure raw_light raw_light raw_light raw_light raw_light device_types raw_sleep_mat raw_sleep_mat raw_sleep_mat raw_sleep_mat raw_sleep_mat raw_sleep_mat raw_sleep_mat raw_sleep_mat raw_sleep_mat raw_sleep_mat raw_sleep_mat raw_sleep_mat raw_sleep_mat raw_sleep_mat raw_sleep_mat raw_sleep_mat raw_sleep_mat raw_sleep_mat raw_sleep_mat raw_sleep_mat raw_sleep_mat raw_sleep_mat raw_sleep_mat raw_sleep_mat raw_heart_rate raw_behavioural raw_body_weight raw_door_sensor raw_door_sensor raw_sleep_event raw_activity_pir raw_activity_pir raw_activity_pir raw_activity_pir raw_activity_pir raw_activity_pir raw_activity_pir raw_activity_pir observation_notes raw_appliance_use raw_blood_pressure raw_total_body_fat raw_body_mass_index raw_total_bone_mass raw_body_muscle_mass raw_body_temperature raw_skin_temperature raw_total_body_water raw_wearable_walking raw_oxygen_saturation raw_ambient_temperature raw_ambient_temperature raw_ambient_temperature \n",
      "======================Job 8 ======================\n",
      "ID:  2c2f3ae8-d6ec-4128-80ca-4cfa85de2c5d\n",
      "Transaction Time 2021-10-06T20:23:08.958Z\n",
      "Export sensors: device_types raw_door_sensor raw_activity_pir raw_appliance_use \n",
      "======================Job 9 ======================\n",
      "ID:  c336264c-e662-48b0-8318-fa6e591c656b\n",
      "Transaction Time 2021-10-06T20:35:26.467Z\n",
      "Export sensors: device_types raw_door_sensor raw_activity_pir raw_appliance_use \n",
      "=====================Job 10 ======================\n",
      "ID:  efbac141-bb80-4de6-b9d6-d7de0c36b64b\n",
      "Transaction Time 2021-10-06T20:47:14.020Z\n",
      "Export sensors: device_types raw_door_sensor raw_activity_pir raw_appliance_use \n",
      "=====================Job 11 ======================\n",
      "ID:  7be9588a-ff3c-48b0-98a8-88a282d54e0f\n",
      "Transaction Time 2021-10-06T20:48:00.045Z\n",
      "Export sensors: device_types raw_door_sensor raw_door_sensor raw_activity_pir raw_activity_pir raw_activity_pir raw_activity_pir raw_activity_pir raw_activity_pir raw_activity_pir raw_activity_pir raw_appliance_use \n",
      "=====================Job 12 ======================\n",
      "ID:  1bf10dc9-f2d9-4b53-9ddf-28cb47d1426a\n",
      "Transaction Time 2021-10-06T20:54:44.378Z\n",
      "Export sensors: device_types raw_door_sensor raw_activity_pir raw_appliance_use \n",
      "=====================Job 13 ======================\n",
      "ID:  542892be-49e0-46a1-bacc-e70dfe3ad7de\n",
      "Transaction Time 2021-10-08T11:47:47.684Z\n",
      "Export sensors: device_types raw_door_sensor raw_activity_pir raw_appliance_use \n",
      "=====================Job 14 ======================\n",
      "ID:  26d54e7a-1946-4c01-860a-b2c1bc02231d\n",
      "Transaction Time 2021-10-08T11:52:53.062Z\n",
      "Export sensors: device_types raw_door_sensor raw_activity_pir raw_appliance_use \n",
      "=====================Job 15 ======================\n",
      "ID:  4a62462a-59de-45f3-8479-6769c2be9ce9\n",
      "Transaction Time 2021-10-08T13:59:19.222Z\n",
      "Export sensors: procedure device_types \n",
      "=====================Job 16 ======================\n",
      "ID:  d6edfb35-027e-47ee-a606-a12f4642b48f\n",
      "Transaction Time 2021-10-11T11:23:19.563Z\n",
      "Export sensors: device_types raw_door_sensor raw_activity_pir raw_appliance_use \n",
      "=====================Job 17 ======================\n",
      "ID:  23310a0c-1094-4a40-a0d5-70dc17d53a27\n",
      "Transaction Time 2021-10-11T11:25:28.550Z\n",
      "Export sensors: device_types raw_door_sensor raw_activity_pir raw_appliance_use \n",
      "=====================Job 18 ======================\n",
      "ID:  f56539ea-e66f-4f32-99a0-435988a6ec59\n",
      "Transaction Time 2021-10-12T09:00:27.362Z\n",
      "Export sensors: device_types raw_door_sensor raw_activity_pir raw_appliance_use \n",
      "=====================Job 19 ======================\n",
      "ID:  060801f0-d280-4905-94ba-8929d9c95cff\n",
      "Transaction Time 2021-10-12T09:04:31.781Z\n",
      "Export sensors: device_types raw_activity_pir raw_activity_pir raw_activity_pir raw_activity_pir raw_activity_pir raw_activity_pir raw_activity_pir raw_activity_pir \n",
      "=====================Job 20 ======================\n",
      "ID:  b3da2575-c358-41b0-add6-a91d126ef5bf\n",
      "Transaction Time 2021-10-12T09:05:11.440Z\n",
      "Export sensors: device_types raw_activity_pir \n"
     ]
    },
    {
     "ename": "KeyboardInterrupt",
     "evalue": "",
     "output_type": "error",
     "traceback": [
      "\u001B[0;31m---------------------------------------------------------------------------\u001B[0m",
      "\u001B[0;31mKeyboardInterrupt\u001B[0m                         Traceback (most recent call last)",
      "\u001B[0;32m/opt/anaconda3/envs/tensorflow/lib/python3.6/site-packages/ipykernel/kernelbase.py\u001B[0m in \u001B[0;36m_input_request\u001B[0;34m(self, prompt, ident, parent, password)\u001B[0m\n\u001B[1;32m    877\u001B[0m             \u001B[0;32mtry\u001B[0m\u001B[0;34m:\u001B[0m\u001B[0;34m\u001B[0m\u001B[0;34m\u001B[0m\u001B[0m\n\u001B[0;32m--> 878\u001B[0;31m                 \u001B[0mident\u001B[0m\u001B[0;34m,\u001B[0m \u001B[0mreply\u001B[0m \u001B[0;34m=\u001B[0m \u001B[0mself\u001B[0m\u001B[0;34m.\u001B[0m\u001B[0msession\u001B[0m\u001B[0;34m.\u001B[0m\u001B[0mrecv\u001B[0m\u001B[0;34m(\u001B[0m\u001B[0mself\u001B[0m\u001B[0;34m.\u001B[0m\u001B[0mstdin_socket\u001B[0m\u001B[0;34m,\u001B[0m \u001B[0;36m0\u001B[0m\u001B[0;34m)\u001B[0m\u001B[0;34m\u001B[0m\u001B[0;34m\u001B[0m\u001B[0m\n\u001B[0m\u001B[1;32m    879\u001B[0m             \u001B[0;32mexcept\u001B[0m \u001B[0mException\u001B[0m\u001B[0;34m:\u001B[0m\u001B[0;34m\u001B[0m\u001B[0;34m\u001B[0m\u001B[0m\n",
      "\u001B[0;32m/opt/anaconda3/envs/tensorflow/lib/python3.6/site-packages/jupyter_client/session.py\u001B[0m in \u001B[0;36mrecv\u001B[0;34m(self, socket, mode, content, copy)\u001B[0m\n\u001B[1;32m    802\u001B[0m         \u001B[0;32mtry\u001B[0m\u001B[0;34m:\u001B[0m\u001B[0;34m\u001B[0m\u001B[0;34m\u001B[0m\u001B[0m\n\u001B[0;32m--> 803\u001B[0;31m             \u001B[0mmsg_list\u001B[0m \u001B[0;34m=\u001B[0m \u001B[0msocket\u001B[0m\u001B[0;34m.\u001B[0m\u001B[0mrecv_multipart\u001B[0m\u001B[0;34m(\u001B[0m\u001B[0mmode\u001B[0m\u001B[0;34m,\u001B[0m \u001B[0mcopy\u001B[0m\u001B[0;34m=\u001B[0m\u001B[0mcopy\u001B[0m\u001B[0;34m)\u001B[0m\u001B[0;34m\u001B[0m\u001B[0;34m\u001B[0m\u001B[0m\n\u001B[0m\u001B[1;32m    804\u001B[0m         \u001B[0;32mexcept\u001B[0m \u001B[0mzmq\u001B[0m\u001B[0;34m.\u001B[0m\u001B[0mZMQError\u001B[0m \u001B[0;32mas\u001B[0m \u001B[0me\u001B[0m\u001B[0;34m:\u001B[0m\u001B[0;34m\u001B[0m\u001B[0;34m\u001B[0m\u001B[0m\n",
      "\u001B[0;32m/opt/anaconda3/envs/tensorflow/lib/python3.6/site-packages/zmq/sugar/socket.py\u001B[0m in \u001B[0;36mrecv_multipart\u001B[0;34m(self, flags, copy, track)\u001B[0m\n\u001B[1;32m    469\u001B[0m         \"\"\"\n\u001B[0;32m--> 470\u001B[0;31m         \u001B[0mparts\u001B[0m \u001B[0;34m=\u001B[0m \u001B[0;34m[\u001B[0m\u001B[0mself\u001B[0m\u001B[0;34m.\u001B[0m\u001B[0mrecv\u001B[0m\u001B[0;34m(\u001B[0m\u001B[0mflags\u001B[0m\u001B[0;34m,\u001B[0m \u001B[0mcopy\u001B[0m\u001B[0;34m=\u001B[0m\u001B[0mcopy\u001B[0m\u001B[0;34m,\u001B[0m \u001B[0mtrack\u001B[0m\u001B[0;34m=\u001B[0m\u001B[0mtrack\u001B[0m\u001B[0;34m)\u001B[0m\u001B[0;34m]\u001B[0m\u001B[0;34m\u001B[0m\u001B[0;34m\u001B[0m\u001B[0m\n\u001B[0m\u001B[1;32m    471\u001B[0m         \u001B[0;31m# have first part already, only loop while more to receive\u001B[0m\u001B[0;34m\u001B[0m\u001B[0;34m\u001B[0m\u001B[0;34m\u001B[0m\u001B[0m\n",
      "\u001B[0;32mzmq/backend/cython/socket.pyx\u001B[0m in \u001B[0;36mzmq.backend.cython.socket.Socket.recv\u001B[0;34m()\u001B[0m\n",
      "\u001B[0;32mzmq/backend/cython/socket.pyx\u001B[0m in \u001B[0;36mzmq.backend.cython.socket.Socket.recv\u001B[0;34m()\u001B[0m\n",
      "\u001B[0;32mzmq/backend/cython/socket.pyx\u001B[0m in \u001B[0;36mzmq.backend.cython.socket._recv_copy\u001B[0;34m()\u001B[0m\n",
      "\u001B[0;32m/opt/anaconda3/envs/tensorflow/lib/python3.6/site-packages/zmq/backend/cython/checkrc.pxd\u001B[0m in \u001B[0;36mzmq.backend.cython.checkrc._check_rc\u001B[0;34m()\u001B[0m\n",
      "\u001B[0;31mKeyboardInterrupt\u001B[0m: ",
      "\nDuring handling of the above exception, another exception occurred:\n",
      "\u001B[0;31mKeyboardInterrupt\u001B[0m                         Traceback (most recent call last)",
      "\u001B[0;32m<ipython-input-22-49b2988935cf>\u001B[0m in \u001B[0;36m<module>\u001B[0;34m\u001B[0m\n\u001B[0;32m----> 1\u001B[0;31m \u001B[0mdata_downloader\u001B[0m\u001B[0;34m.\u001B[0m\u001B[0mexport\u001B[0m\u001B[0;34m(\u001B[0m\u001B[0mreload\u001B[0m\u001B[0;34m=\u001B[0m\u001B[0;32mFalse\u001B[0m\u001B[0;34m)\u001B[0m\u001B[0;34m\u001B[0m\u001B[0;34m\u001B[0m\u001B[0m\n\u001B[0m",
      "\u001B[0;32m~/Desktop/GITDesktop.nosync/UKDRI.nosync/DRI_data_utils/download/download.py\u001B[0m in \u001B[0;36mexport\u001B[0;34m(self, since, reload, categories, save_path)\u001B[0m\n\u001B[1;32m     75\u001B[0m                         \u001B[0mprint\u001B[0m\u001B[0;34m(\u001B[0m\u001B[0mrecord\u001B[0m\u001B[0;34m[\u001B[0m\u001B[0;34m'type'\u001B[0m\u001B[0;34m]\u001B[0m\u001B[0;34m,\u001B[0m \u001B[0mend\u001B[0m\u001B[0;34m=\u001B[0m\u001B[0;34m' '\u001B[0m\u001B[0;34m)\u001B[0m\u001B[0;34m\u001B[0m\u001B[0;34m\u001B[0m\u001B[0m\n\u001B[1;32m     76\u001B[0m                     \u001B[0mprint\u001B[0m\u001B[0;34m(\u001B[0m\u001B[0;34m''\u001B[0m\u001B[0;34m)\u001B[0m\u001B[0;34m\u001B[0m\u001B[0;34m\u001B[0m\u001B[0m\n\u001B[0;32m---> 77\u001B[0;31m                 \u001B[0mexport_index\u001B[0m \u001B[0;34m=\u001B[0m \u001B[0mint\u001B[0m\u001B[0;34m(\u001B[0m\u001B[0minput\u001B[0m\u001B[0;34m(\u001B[0m\u001B[0;34m'Enter the index of the job ...'\u001B[0m\u001B[0;34m)\u001B[0m\u001B[0;34m)\u001B[0m\u001B[0;34m\u001B[0m\u001B[0;34m\u001B[0m\u001B[0m\n\u001B[0m\u001B[1;32m     78\u001B[0m                 \u001B[0;32mif\u001B[0m \u001B[0mexport_index\u001B[0m \u001B[0;32mnot\u001B[0m \u001B[0;32min\u001B[0m \u001B[0mrange\u001B[0m\u001B[0;34m(\u001B[0m\u001B[0mlen\u001B[0m\u001B[0;34m(\u001B[0m\u001B[0mdata\u001B[0m\u001B[0;34m)\u001B[0m\u001B[0;34m)\u001B[0m\u001B[0;34m:\u001B[0m\u001B[0;34m\u001B[0m\u001B[0;34m\u001B[0m\u001B[0m\n\u001B[1;32m     79\u001B[0m                     \u001B[0mprint\u001B[0m\u001B[0;34m(\u001B[0m\u001B[0;34m'Not a valid input'\u001B[0m\u001B[0;34m)\u001B[0m\u001B[0;34m\u001B[0m\u001B[0;34m\u001B[0m\u001B[0m\n",
      "\u001B[0;32m/opt/anaconda3/envs/tensorflow/lib/python3.6/site-packages/ipykernel/kernelbase.py\u001B[0m in \u001B[0;36mraw_input\u001B[0;34m(self, prompt)\u001B[0m\n\u001B[1;32m    851\u001B[0m             \u001B[0mself\u001B[0m\u001B[0;34m.\u001B[0m\u001B[0m_parent_ident\u001B[0m\u001B[0;34m,\u001B[0m\u001B[0;34m\u001B[0m\u001B[0;34m\u001B[0m\u001B[0m\n\u001B[1;32m    852\u001B[0m             \u001B[0mself\u001B[0m\u001B[0;34m.\u001B[0m\u001B[0m_parent_header\u001B[0m\u001B[0;34m,\u001B[0m\u001B[0;34m\u001B[0m\u001B[0;34m\u001B[0m\u001B[0m\n\u001B[0;32m--> 853\u001B[0;31m             \u001B[0mpassword\u001B[0m\u001B[0;34m=\u001B[0m\u001B[0;32mFalse\u001B[0m\u001B[0;34m,\u001B[0m\u001B[0;34m\u001B[0m\u001B[0;34m\u001B[0m\u001B[0m\n\u001B[0m\u001B[1;32m    854\u001B[0m         )\n\u001B[1;32m    855\u001B[0m \u001B[0;34m\u001B[0m\u001B[0m\n",
      "\u001B[0;32m/opt/anaconda3/envs/tensorflow/lib/python3.6/site-packages/ipykernel/kernelbase.py\u001B[0m in \u001B[0;36m_input_request\u001B[0;34m(self, prompt, ident, parent, password)\u001B[0m\n\u001B[1;32m    881\u001B[0m             \u001B[0;32mexcept\u001B[0m \u001B[0mKeyboardInterrupt\u001B[0m\u001B[0;34m:\u001B[0m\u001B[0;34m\u001B[0m\u001B[0;34m\u001B[0m\u001B[0m\n\u001B[1;32m    882\u001B[0m                 \u001B[0;31m# re-raise KeyboardInterrupt, to truncate traceback\u001B[0m\u001B[0;34m\u001B[0m\u001B[0;34m\u001B[0m\u001B[0;34m\u001B[0m\u001B[0m\n\u001B[0;32m--> 883\u001B[0;31m                 \u001B[0;32mraise\u001B[0m \u001B[0mKeyboardInterrupt\u001B[0m\u001B[0;34m\u001B[0m\u001B[0;34m\u001B[0m\u001B[0m\n\u001B[0m\u001B[1;32m    884\u001B[0m             \u001B[0;32melse\u001B[0m\u001B[0;34m:\u001B[0m\u001B[0;34m\u001B[0m\u001B[0;34m\u001B[0m\u001B[0m\n\u001B[1;32m    885\u001B[0m                 \u001B[0;32mbreak\u001B[0m\u001B[0;34m\u001B[0m\u001B[0;34m\u001B[0m\u001B[0m\n",
      "\u001B[0;31mKeyboardInterrupt\u001B[0m: "
     ]
    }
   ],
   "source": [
    "data_downloader.export(reload=False)"
   ]
  },
  {
   "cell_type": "markdown",
   "metadata": {},
   "source": [
    "# Categorise the data <a id='formatting'></a>"
   ]
  },
  {
   "cell_type": "markdown",
   "metadata": {},
   "source": [
    "The data in the specific directory will be filtered and categorised into following:\n",
    "- physiological_data\n",
    "- activity_data\n",
    "- environmental_data"
   ]
  },
  {
   "cell_type": "code",
   "execution_count": 25,
   "metadata": {},
   "outputs": [
    {
     "name": "stdout",
     "output_type": "stream",
     "text": [
      "Processing: raw_sleep_event                       TODO\n",
      "Processing: raw_body_weight                       Finished in 0.03 seconds\n",
      "Processing: homes                                 TODO\n",
      "Processing: raw_body_temperature                  Finished in 0.09 seconds\n",
      "Processing: raw_skin_temperature                  Finished in 0.06 seconds\n",
      "Processing: raw_door_sensor                       Finished in 1.57 seconds\n",
      "Processing: raw_body_muscle_mass                  Finished in 0.02 seconds\n",
      "Processing: raw_appliance_use                     Finished in 0.33 seconds\n",
      "Processing: raw_heart_rate                        Finished in 0.05 seconds\n",
      "Processing: raw_oxygen_saturation                 Finished in 0.03 seconds\n",
      "Processing: raw_behavioural                       TODO\n",
      "Processing: raw_total_body_fat                    Finished in 0.02 seconds\n",
      "Processing: procedure                             TODO\n",
      "Processing: observation_notes                     TODO\n",
      "Processing: raw_ambient_temperature               "
     ]
    },
    {
     "name": "stderr",
     "output_type": "stream",
     "text": [
      "/opt/anaconda3/envs/tensorflow/lib/python3.6/site-packages/ipykernel_launcher.py:2: DtypeWarning: Columns (9) have mixed types.Specify dtype option on import or set low_memory=False.\n",
      "  \n"
     ]
    },
    {
     "name": "stdout",
     "output_type": "stream",
     "text": [
      "Finished in 3.82 seconds\n",
      "Processing: device_types                          Finished in 0.00 seconds\n",
      "Processing: encounter                             TODO\n",
      "Processing: issue                                 TODO\n",
      "Processing: raw_light                             Finished in 7.92 seconds\n",
      "Processing: raw_body_mass_index                   Finished in 0.02 seconds\n",
      "Processing: raw_wearable_walking                  TODO\n",
      "Processing: raw_blood_pressure                    Finished in 0.05 seconds\n",
      "Processing: raw_total_body_water                  Finished in 0.02 seconds\n",
      "Processing: patients                              Finished in 0.00 seconds\n",
      "Processing: raw_total_bone_mass                   Finished in 0.02 seconds\n",
      "Processing: raw_activity_pir                      "
     ]
    },
    {
     "name": "stderr",
     "output_type": "stream",
     "text": [
      "/opt/anaconda3/envs/tensorflow/lib/python3.6/site-packages/pandas/core/generic.py:5170: SettingWithCopyWarning: \n",
      "A value is trying to be set on a copy of a slice from a DataFrame.\n",
      "Try using .loc[row_indexer,col_indexer] = value instead\n",
      "\n",
      "See the caveats in the documentation: https://pandas.pydata.org/pandas-docs/stable/user_guide/indexing.html#returning-a-view-versus-a-copy\n",
      "  self[name] = value\n",
      "/Users/mozzie/Desktop/GITDesktop.nosync/UKDRI.nosync/DRI_data_utils/formatting/formatting.py:149: SettingWithCopyWarning: \n",
      "A value is trying to be set on a copy of a slice from a DataFrame.\n",
      "Try using .loc[row_indexer,col_indexer] = value instead\n",
      "\n",
      "See the caveats in the documentation: https://pandas.pydata.org/pandas-docs/stable/user_guide/indexing.html#returning-a-view-versus-a-copy\n",
      "  tmp_data['value'] = tmp_data[value]\n"
     ]
    },
    {
     "name": "stdout",
     "output_type": "stream",
     "text": [
      "Finished in 8.27 seconds\n",
      "Processing: raw_sleep_mat                         TODO\n"
     ]
    }
   ],
   "source": [
    "from formatting.formatting import Formatting\n",
    "formater = Formatting(path='./data/raw_data/')"
   ]
  },
  {
   "cell_type": "markdown",
   "metadata": {},
   "source": [
    "To access the data, just use:"
   ]
  },
  {
   "cell_type": "code",
   "execution_count": null,
   "metadata": {},
   "outputs": [],
   "source": [
    "formater.activity_data"
   ]
  },
  {
   "cell_type": "markdown",
   "metadata": {},
   "source": [
    "# Download weekly data <a id='preprocessing'></a>"
   ]
  },
  {
   "cell_type": "markdown",
   "metadata": {},
   "source": [
    "### activity data"
   ]
  },
  {
   "cell_type": "markdown",
   "metadata": {},
   "source": [
    "The data will be aggregated hourly by the following script"
   ]
  },
  {
   "cell_type": "code",
   "execution_count": 43,
   "metadata": {},
   "outputs": [],
   "source": [
    "from formatting.standardisation import standardise_activity_data\n",
    "activity_data = standardise_activity_data(formater.activity_data)"
   ]
  },
  {
   "cell_type": "markdown",
   "metadata": {},
   "source": [
    "normalise the data by l2 normalisation and labelled (uti labels)"
   ]
  },
  {
   "cell_type": "code",
   "execution_count": 44,
   "metadata": {},
   "outputs": [],
   "source": [
    "from dataloader.dataloader import Dataloader\n",
    "dataloader = Dataloader(activity_data, 3, label_data=True)"
   ]
  },
  {
   "cell_type": "markdown",
   "metadata": {},
   "source": [
    "To access the unlabelled data"
   ]
  },
  {
   "cell_type": "code",
   "execution_count": 45,
   "metadata": {},
   "outputs": [],
   "source": [
    "unlabelled_data, unlabelled_patient_ids, unlablled_dates = dataloader.get_unlabelled_data()"
   ]
  },
  {
   "cell_type": "markdown",
   "metadata": {},
   "source": [
    "To access the labelled data"
   ]
  },
  {
   "cell_type": "code",
   "execution_count": 46,
   "metadata": {},
   "outputs": [
    {
     "name": "stderr",
     "output_type": "stream",
     "text": [
      "/opt/anaconda3/envs/tensorflow/lib/python3.6/site-packages/pandas/core/indexing.py:873: PerformanceWarning: indexing past lexsort depth may impact performance.\n",
      "  return self._getitem_tuple(key)\n",
      "/opt/anaconda3/envs/tensorflow/lib/python3.6/site-packages/pandas/core/indexing.py:873: PerformanceWarning: indexing past lexsort depth may impact performance.\n",
      "  return self._getitem_tuple(key)\n",
      "/opt/anaconda3/envs/tensorflow/lib/python3.6/site-packages/pandas/core/indexing.py:873: PerformanceWarning: indexing past lexsort depth may impact performance.\n",
      "  return self._getitem_tuple(key)\n",
      "/opt/anaconda3/envs/tensorflow/lib/python3.6/site-packages/pandas/core/indexing.py:873: PerformanceWarning: indexing past lexsort depth may impact performance.\n",
      "  return self._getitem_tuple(key)\n",
      "/opt/anaconda3/envs/tensorflow/lib/python3.6/site-packages/pandas/core/indexing.py:873: PerformanceWarning: indexing past lexsort depth may impact performance.\n",
      "  return self._getitem_tuple(key)\n",
      "/opt/anaconda3/envs/tensorflow/lib/python3.6/site-packages/pandas/core/indexing.py:873: PerformanceWarning: indexing past lexsort depth may impact performance.\n",
      "  return self._getitem_tuple(key)\n",
      "/opt/anaconda3/envs/tensorflow/lib/python3.6/site-packages/pandas/core/indexing.py:873: PerformanceWarning: indexing past lexsort depth may impact performance.\n",
      "  return self._getitem_tuple(key)\n",
      "/opt/anaconda3/envs/tensorflow/lib/python3.6/site-packages/pandas/core/indexing.py:873: PerformanceWarning: indexing past lexsort depth may impact performance.\n",
      "  return self._getitem_tuple(key)\n",
      "/opt/anaconda3/envs/tensorflow/lib/python3.6/site-packages/pandas/core/indexing.py:873: PerformanceWarning: indexing past lexsort depth may impact performance.\n",
      "  return self._getitem_tuple(key)\n"
     ]
    }
   ],
   "source": [
    "data, label, patient_ids = [], [], []\n",
    "for i, j, k in dataloader.iterate_data():\n",
    "    data.append(i)\n",
    "    label.append(j)\n",
    "    patient_ids.append(k)"
   ]
  },
  {
   "cell_type": "markdown",
   "metadata": {},
   "source": [
    "# Utilisations <a id='utils'></a>"
   ]
  },
  {
   "cell_type": "markdown",
   "metadata": {},
   "source": [
    "### evaluate"
   ]
  },
  {
   "cell_type": "markdown",
   "metadata": {},
   "source": [
    "The function will run the model multiple times and\n",
    "    - split the train/test data by patient ids\n",
    "    - return a dataframe with mean and variance of sensitivity, specificity, accuracy and f1 score\n",
    "Note the model must implement:\n",
    "    - `reset`: initialise the model\n",
    "    - fit: learn the data\n",
    "    - predict: give predictions "
   ]
  },
  {
   "cell_type": "code",
   "execution_count": 40,
   "metadata": {},
   "outputs": [
    {
     "ename": "ModuleNotFoundError",
     "evalue": "No module named 'evaluate'",
     "output_type": "error",
     "traceback": [
      "\u001B[0;31m---------------------------------------------------------------------------\u001B[0m",
      "\u001B[0;31mModuleNotFoundError\u001B[0m                       Traceback (most recent call last)",
      "\u001B[0;32m/var/folders/35/bc3d2zcs15s2xtm0s4vbzt9r0000gn/T/ipykernel_58333/437004614.py\u001B[0m in \u001B[0;36m<module>\u001B[0;34m\u001B[0m\n\u001B[0;32m----> 1\u001B[0;31m \u001B[0;32mfrom\u001B[0m \u001B[0mevaluate\u001B[0m\u001B[0;34m.\u001B[0m\u001B[0mevaluate_models\u001B[0m \u001B[0;32mimport\u001B[0m \u001B[0mevaluate\u001B[0m\u001B[0;34m\u001B[0m\u001B[0;34m\u001B[0m\u001B[0m\n\u001B[0m\u001B[1;32m      2\u001B[0m \u001B[0mevaluate\u001B[0m\u001B[0;34m(\u001B[0m\u001B[0mmodel\u001B[0m\u001B[0;34m,\u001B[0m \u001B[0mX\u001B[0m\u001B[0;34m,\u001B[0m \u001B[0my\u001B[0m\u001B[0;34m,\u001B[0m \u001B[0mp_ids\u001B[0m\u001B[0;34m,\u001B[0m \u001B[0mnum_runs\u001B[0m\u001B[0;34m=\u001B[0m\u001B[0;36m10\u001B[0m\u001B[0;34m)\u001B[0m\u001B[0;34m\u001B[0m\u001B[0;34m\u001B[0m\u001B[0m\n",
      "\u001B[0;31mModuleNotFoundError\u001B[0m: No module named 'evaluate'"
     ]
    }
   ],
   "source": [
    "from minder_utils.evaluate.evaluate_models import evaluate\n",
    "evaluate(model, X, y, p_ids, num_runs=10)"
   ]
  },
  {
   "cell_type": "code",
   "execution_count": 43,
   "metadata": {},
   "outputs": [],
   "source": [
    "from minder_utils.scripts.feature_selection import Feature_Selection\n",
    "from minder_utils.models.classifiers import Classifiers"
   ]
  },
  {
   "cell_type": "code",
   "execution_count": 73,
   "metadata": {},
   "outputs": [],
   "source": [
    "feature_select = Feature_Selection(classifier)\n",
    "classifier = Classifiers('nn')"
   ]
  },
  {
   "cell_type": "code",
   "execution_count": 74,
   "metadata": {},
   "outputs": [],
   "source": [
    "unlabelled = np.load(os.path.join(dataloader.previous_data, 'unlabelled.npy'))\n",
    "X = np.load(os.path.join(dataloader.previous_data, 'X.npy'))\n",
    "y = np.load(os.path.join(dataloader.previous_data, 'y.npy'))\n",
    "p_ids = np.load(os.path.join(dataloader.previous_data, 'label_ids.npy'))\n",
    "\n",
    "X = X.reshape(X.shape[0], -1)"
   ]
  },
  {
   "cell_type": "code",
   "execution_count": 101,
   "metadata": {},
   "outputs": [
    {
     "data": {
      "text/html": [
       "<div>\n",
       "<style scoped>\n",
       "    .dataframe tbody tr th:only-of-type {\n",
       "        vertical-align: middle;\n",
       "    }\n",
       "\n",
       "    .dataframe tbody tr th {\n",
       "        vertical-align: top;\n",
       "    }\n",
       "\n",
       "    .dataframe thead th {\n",
       "        text-align: right;\n",
       "    }\n",
       "</style>\n",
       "<table border=\"1\" class=\"dataframe\">\n",
       "  <thead>\n",
       "    <tr style=\"text-align: right;\">\n",
       "      <th></th>\n",
       "      <th>Supervision</th>\n",
       "      <th>Model</th>\n",
       "      <th>Feature selected (432 in total)</th>\n",
       "      <th>sensitivity</th>\n",
       "      <th>specificity</th>\n",
       "      <th>acc</th>\n",
       "      <th>f1</th>\n",
       "    </tr>\n",
       "  </thead>\n",
       "  <tbody>\n",
       "    <tr>\n",
       "      <th>0</th>\n",
       "      <td>Unsupervised Filter</td>\n",
       "      <td>VarianceThreshold</td>\n",
       "      <td>311.0 +/- 0.0</td>\n",
       "      <td>0.0 +/- 0.0</td>\n",
       "      <td>1.0 +/- 0.0</td>\n",
       "      <td>0.5555 +/- 0.0</td>\n",
       "      <td>0.0 +/- 0.0</td>\n",
       "    </tr>\n",
       "  </tbody>\n",
       "</table>\n",
       "</div>"
      ],
      "text/plain": [
       "           Supervision              Model Feature selected (432 in total)  \\\n",
       "0  Unsupervised Filter  VarianceThreshold                   311.0 +/- 0.0   \n",
       "\n",
       "   sensitivity  specificity             acc           f1  \n",
       "0  0.0 +/- 0.0  1.0 +/- 0.0  0.5555 +/- 0.0  0.0 +/- 0.0  "
      ]
     },
     "execution_count": 101,
     "metadata": {},
     "output_type": "execute_result"
    }
   ],
   "source": [
    "feature_select.evaluate(X, y, p_ids, num_runs=1)"
   ]
  }
 ],
 "metadata": {
  "kernelspec": {
   "display_name": "Python 3 (ipykernel)",
   "language": "python",
   "name": "python3"
  },
  "language_info": {
   "codemirror_mode": {
    "name": "ipython",
    "version": 3
   },
   "file_extension": ".py",
   "mimetype": "text/x-python",
   "name": "python",
   "nbconvert_exporter": "python",
   "pygments_lexer": "ipython3",
   "version": "3.8.12"
  }
 },
 "nbformat": 4,
 "nbformat_minor": 1
}