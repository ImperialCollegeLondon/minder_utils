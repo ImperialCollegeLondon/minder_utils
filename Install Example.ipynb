{
 "cells": [
  {
   "cell_type": "code",
   "execution_count": 1,
   "id": "53ff05ae-c357-4cc7-91d2-e221299f96a3",
   "metadata": {},
   "outputs": [
    {
     "name": "stdout",
     "output_type": "stream",
     "text": [
      "Obtaining minder_utils from git+https://github.com/alexcapstick/minder_utils.git#egg=minder_utils\n",
      "  Cloning https://github.com/alexcapstick/minder_utils.git to ./src/minder-utils\n",
      "Requirement already satisfied: numpy==1.19.5 in /Users/ac4919/miniforge3/envs/dri_data_utils/lib/python3.8/site-packages (from minder_utils) (1.19.5)\n",
      "Requirement already satisfied: pandas==1.1.5 in /Users/ac4919/miniforge3/envs/dri_data_utils/lib/python3.8/site-packages (from minder_utils) (1.1.5)\n",
      "Requirement already satisfied: requests in /Users/ac4919/miniforge3/envs/dri_data_utils/lib/python3.8/site-packages (from minder_utils) (2.26.0)\n",
      "Requirement already satisfied: argparse in /Users/ac4919/miniforge3/envs/dri_data_utils/lib/python3.8/site-packages (from minder_utils) (1.4.0)\n",
      "Requirement already satisfied: python-dateutil>=2.7.3 in /Users/ac4919/miniforge3/envs/dri_data_utils/lib/python3.8/site-packages (from pandas==1.1.5->minder_utils) (2.8.2)\n",
      "Requirement already satisfied: pytz>=2017.2 in /Users/ac4919/miniforge3/envs/dri_data_utils/lib/python3.8/site-packages (from pandas==1.1.5->minder_utils) (2021.3)\n",
      "Requirement already satisfied: urllib3<1.27,>=1.21.1 in /Users/ac4919/miniforge3/envs/dri_data_utils/lib/python3.8/site-packages (from requests->minder_utils) (1.26.7)\n",
      "Requirement already satisfied: certifi>=2017.4.17 in /Users/ac4919/miniforge3/envs/dri_data_utils/lib/python3.8/site-packages (from requests->minder_utils) (2021.5.30)\n",
      "Requirement already satisfied: charset-normalizer~=2.0.0; python_version >= \"3\" in /Users/ac4919/miniforge3/envs/dri_data_utils/lib/python3.8/site-packages (from requests->minder_utils) (2.0.4)\n",
      "Requirement already satisfied: idna<4,>=2.5; python_version >= \"3\" in /Users/ac4919/miniforge3/envs/dri_data_utils/lib/python3.8/site-packages (from requests->minder_utils) (3.2)\n",
      "Requirement already satisfied: six>=1.5 in /Users/ac4919/miniforge3/envs/dri_data_utils/lib/python3.8/site-packages (from python-dateutil>=2.7.3->pandas==1.1.5->minder_utils) (1.16.0)\n",
      "Installing collected packages: minder-utils\n",
      "  Running setup.py develop for minder-utils\n",
      "Successfully installed minder-utils\n"
     ]
    }
   ],
   "source": [
    "!pip install -e git+https://github.com/alexcapstick/minder_utils.git#egg=minder_utils"
   ]
  },
  {
   "cell_type": "code",
   "execution_count": 1,
   "id": "997deb9c-6b8a-4021-ae31-23649a051f52",
   "metadata": {},
   "outputs": [],
   "source": [
    "import minder_utils as dri"
   ]
  },
  {
   "cell_type": "code",
   "execution_count": null,
   "id": "cbc1b00c-1cfc-47df-80a9-ab58563b7938",
   "metadata": {},
   "outputs": [],
   "source": []
  }
 ],
 "metadata": {
  "kernelspec": {
   "display_name": "Python 3",
   "language": "python",
   "name": "python3"
  },
  "language_info": {
   "codemirror_mode": {
    "name": "ipython",
    "version": 3
   },
   "file_extension": ".py",
   "mimetype": "text/x-python",
   "name": "python",
   "nbconvert_exporter": "python",
   "pygments_lexer": "ipython3",
   "version": "3.8.11"
  }
 },
 "nbformat": 4,
 "nbformat_minor": 5
}
